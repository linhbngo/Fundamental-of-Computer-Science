{
 "cells": [
  {
   "cell_type": "markdown",
   "metadata": {
    "slideshow": {
     "slide_type": "slide"
    }
   },
   "source": [
    "## <center> CSC 110: Fundamentals of Computer Science </center>\n",
    "### <center> Linh B. Ngo </center>"
   ]
  },
  {
   "cell_type": "markdown",
   "metadata": {
    "slideshow": {
     "slide_type": "slide"
    }
   },
   "source": [
    "### Course Information\n",
    "\n",
    "- External Link to Lecture and Assignment Sources: https://github.com/linhbngo/Fundamentals-of-Computer-Science\n",
    "- Slides will be available via D2L"
   ]
  },
  {
   "cell_type": "markdown",
   "metadata": {
    "slideshow": {
     "slide_type": "slide"
    }
   },
   "source": [
    "### Instructional Staff\n",
    "\n",
    "#### Instructor: Linh B. Ngo\n",
    "\n",
    "- Email: LNGO at WCUPA dot EDU\n",
    "- Office: 144 UNA (25 University Avenue)\n",
    "- Office Hours: \n",
    "  - MWF 10:00AM to 11:00AM \n",
    "  - TR 3:30PM to 5:00PM"
   ]
  },
  {
   "cell_type": "markdown",
   "metadata": {
    "slideshow": {
     "slide_type": "slide"
    }
   },
   "source": [
    "### Course Descriptions\n",
    "\n",
    "Introduction to the fundamentals of computer science. Topics include surveys of the following sub-areas of computer science: artificial intelligence, hardware/operating systems, programming languages/software, ethics/social issues, history, electronic communications, problem solving, and programming. The course includes laboratory projects (writing computer programs).  General Education Attribute: Science Distributive Requirement."
   ]
  },
  {
   "cell_type": "markdown",
   "metadata": {
    "slideshow": {
     "slide_type": "slide"
    }
   },
   "source": [
    "### Learning Objectives\n",
    "\n",
    "Students will be able to \n",
    "- conduct research and communicate in written form, by means of a term paper, on a theme of their choice – involving the uses and abuses of a specific development of technology.\n",
    "- develop clear and logically correct algorithms to solve problems stated in written form.\n",
    "- implement these solutions in the programming language.\n",
    "- use of appropriate data types, mathematical formulas, and logical expressions in their programming assignments.\n",
    "- determine the correctness of the computer programs that they write to solve problems stated in written form.\n"
   ]
  },
  {
   "cell_type": "markdown",
   "metadata": {
    "slideshow": {
     "slide_type": "slide"
    }
   },
   "source": [
    "### Required Textbook\n",
    "\n",
    "Using Information Technology Complete Edition 11e (Williams)\n",
    "McGraw-Hill ISBN 9781260670769\n",
    "MUST purchase book with access code in order to take exams!\n",
    "BUT don't buy book yet because of Inclusive Access ...\n"
   ]
  },
  {
   "cell_type": "markdown",
   "metadata": {
    "slideshow": {
     "slide_type": "slide"
    }
   },
   "source": [
    "### WCU Inclusive Access \n",
    "\n",
    "The course materials for this class are part of the Inclusive Access program at WCU. This is a collaboration between your professor, WCU Campus Store, and the publisher of your materials. This was created to provide you with the least expensive way to purchase your materials, combined with the convenience of charging the materials to your WCU account. "
   ]
  },
  {
   "cell_type": "markdown",
   "metadata": {
    "slideshow": {
     "slide_type": "slide"
    }
   },
   "source": [
    "### WCU Inclusive Access\n",
    "\n",
    "**How do I access my materials?**\n",
    "\n",
    "1.\tLog into your WCU D2L account \n",
    "2.\tFind your Inclusive Access course \n",
    "3.\tFollow prompts to register/access materials "
   ]
  },
  {
   "cell_type": "markdown",
   "metadata": {
    "slideshow": {
     "slide_type": "slide"
    }
   },
   "source": [
    "### WCU Inclusive Access\n",
    "\n",
    "**How do I pay for my materials?**\n",
    "\n",
    "You have been charged for the course materials for this course on your tuition bill. If you added the course late you will be charged by the Bursar’s office which will reflect on your WCU account.   \n",
    "\n",
    "**What if I drop the class?**\n",
    "\n",
    "If you dropped the class you will receive a refund on your WCU account. Please note the refund may take up to 5-7 business days to process. "
   ]
  },
  {
   "cell_type": "markdown",
   "metadata": {
    "slideshow": {
     "slide_type": "slide"
    }
   },
   "source": [
    "### WCU Inclusive Access\n",
    "\n",
    "**What if I don’t want to purchase my materials this way?**\n",
    "\n",
    "You may Opt-Out of Inclusive Access by opting out via the email sent from WCU Campus Store to your West Chester University email account. A link will be provided in the email that will direct you to a page where you select Opt- Out. If you choose to Opt-Out by the deadline of September 7th 2018, you will receive a refund on your WCU account. You will not be able to Opt- Out after September 7th 2018.  Please keep in mind that this is the least expensive way to purchase your materials. It is up to your discretion to purchase your course materials elsewhere should you Opt-Out. \n",
    "\n",
    "**What if I want a physical book?**\n",
    "\n",
    "You may purchase a discounted print upgrade at WCU Campus Store. It will be available for pick up after September 7th 2018. This purchase would be in addition to the cost of e-materials. You cannot opt out of Inclusive Access and buy a discounted print upgrade instead."
   ]
  },
  {
   "cell_type": "markdown",
   "metadata": {
    "slideshow": {
     "slide_type": "slide"
    }
   },
   "source": [
    "### WCU Inclusive Access\n",
    "\n",
    "**WHERE CAN I GO IF I HAVE MORE QUESTIONS?**\n",
    "\n",
    "For additional information and details, please check your emails from WCU Campus Store. Still want to know more? Visit our Inclusive Access “Frequently Asked Questions” page at www.wcucampusstore.com  or contact WCU Campus Store Inclusive Access at InclusiveAccess@wcupa.edu. "
   ]
  },
  {
   "cell_type": "markdown",
   "metadata": {
    "slideshow": {
     "slide_type": "slide"
    }
   },
   "source": [
    "### Reference Textbook (not required)\n",
    "\n",
    "Learn to Program with Scratch (Majed Marji)\n",
    "No Starch Press ISBN 9781593275433"
   ]
  },
  {
   "cell_type": "markdown",
   "metadata": {
    "slideshow": {
     "slide_type": "slide"
    }
   },
   "source": [
    "### Important Dates\n",
    "\n",
    "- Mon, Sep 03, 2018: Labor Day (no class)\n",
    "- Tue, Sep 04, 2018: Last Day of Add/Drop\n",
    "- Tue, Oct 23, 2018: Last Day of Course Withdrawal\n",
    "- Mon, Nov 19, 2018: Reading/Writing Day\n",
    "- Wed, Nov 21, 2018: Fall/Thanksgiving Break\n",
    "- Fri, Nov 23, 2018: Fall/Thanksgiving Break\n",
    "- **Fri, Dec 14, 2018: Term paper due at midnight**"
   ]
  },
  {
   "cell_type": "markdown",
   "metadata": {
    "slideshow": {
     "slide_type": "slide"
    }
   },
   "source": [
    "### Laptop requirements\n",
    "\n",
    "- Having access to a laptop during class time is critical\n",
    "    + Searching for additional information\n",
    "    + Working with hands-on programming activities in class\n",
    "    + Working on in-class electronic quizzes on D2L\n",
    "- Make sure that your laptop is fully charged for the duration of the class (or come in early and get a spot with access to power outlets)"
   ]
  },
  {
   "cell_type": "markdown",
   "metadata": {
    "slideshow": {
     "slide_type": "slide"
    }
   },
   "source": [
    "### Software requirements\n",
    "\n",
    "Scratch programming (no download needed – just log onto scratch.mit.edu - cloud based)"
   ]
  },
  {
   "cell_type": "markdown",
   "metadata": {
    "slideshow": {
     "slide_type": "slide"
    }
   },
   "source": [
    "### Course Materials\n",
    "\n",
    "- Lecture slides and example codes will be available online via links inside the course’ D2L page\n",
    "\n",
    "- Links to papers on subjects we will be discussing in class will also be listed and/or embedded in the slides. \n",
    "    + West Chester University maintains extensive licensed products to academic publishers such as ACM, IEEE, Elsevier, and Springer, and many of the papers required for this course will be available through the library's online database. \n",
    "    + Google Scholar is another excellent source for downloading preprint or open-source versions of papers. \n"
   ]
  },
  {
   "cell_type": "markdown",
   "metadata": {
    "slideshow": {
     "slide_type": "slide"
    }
   },
   "source": [
    "### Grading\n",
    "\n",
    "Grades will be based on the following distribution:\n",
    "\n",
    "- 9 multiple choice emerging concepts (and other things covered in class) quizzes: 45% (5% each)\n",
    "- 5 credit projects: 40% (8% each)  \n",
    "- Term paper: 10%\n",
    "- Participation: 5%"
   ]
  },
  {
   "cell_type": "markdown",
   "metadata": {
    "slideshow": {
     "slide_type": "slide"
    }
   },
   "source": [
    "Letter grades are assigned according to the standard scale:\n",
    "\n",
    "| Number   | 100-93 | 92-90 | 89-87 | 86-83 | 82-80 | 79-77 | 76-73 | 72-70 | 69-67 | 66-63 | 62-60 | <= 59 |\n",
    "| -------- |:------:|:-----:|:-----:|:-----:|:-----:|:-----:|:-----:|:-----:|:-----:|:-----:|:-----:|:-----:|\n",
    "| Letter   |    A   |   A-  |   B+  |   B   |   B-  |   C+  |   C   |   C-  |   D+  |   D   |   D-  |    F  |\n"
   ]
  },
  {
   "cell_type": "markdown",
   "metadata": {
    "slideshow": {
     "slide_type": "slide"
    }
   },
   "source": [
    "### Participation\n",
    "\n",
    "- Participation accounts for 5% of your grade. \n",
    "- This part of your grade will be determined by:\n",
    "  - whether or not you show up to office hours and class, and\n",
    "  - how actively you participate (ask questions, make comments, contribute to activities) during class. \n",
    "- Participation grades will be assigned in a coarsely manner:\n",
    "  - 100% to students who are fully engaged active participants, \n",
    "  - 50% to students who are nominally engaged (physically there and willing to participate when asked to), and \n",
    "  - 0% for students who really aren't engaged (trying to hide).\n"
   ]
  },
  {
   "cell_type": "markdown",
   "metadata": {
    "slideshow": {
     "slide_type": "slide"
    }
   },
   "source": [
    "### Office Hours:\n",
    "\n",
    "- Office hours are an opportunity to reinforce course topics either one-on-one or in small groups. If you are unable to attend during the posted time slots, I am happy to make an appointment.\n",
    "\n",
    "- You are required to come to office hours at least once (with something to discuss) before October 1st. **If you don't, your participation score for the semester will be zero (0).**"
   ]
  },
  {
   "cell_type": "markdown",
   "metadata": {
    "slideshow": {
     "slide_type": "slide"
    }
   },
   "source": [
    "### Grading Appeals\n",
    "\n",
    "Mistakes occasionally happen during the grading process. If you think a mistake has been made regarding your grades, you should send me an email with detailed justification within one week of the date the grades are available. No changes on grades will be made after one week from the date the grades are posted. "
   ]
  },
  {
   "cell_type": "markdown",
   "metadata": {
    "slideshow": {
     "slide_type": "slide"
    }
   },
   "source": [
    "### Attendance Policy\n",
    "\n",
    "- Attendance is critical to the success of students in this class. \n",
    "- We will take note of who attends, including occasionally using attendance check in place of a quiz score. \n",
    "- If you miss a class, you are responsible for obtaining lecture notes, handouts, and homework assignments from fellow students. \n",
    "- If the instructor is late for class, please wait 20 minutes before leaving.\n"
   ]
  },
  {
   "cell_type": "markdown",
   "metadata": {
    "slideshow": {
     "slide_type": "slide"
    }
   },
   "source": [
    "### Excused Absences Policy for University-Sanctioned Event\n",
    "\n",
    "- Students are advised to carefully read and comply with the excused absences policy for university-sanctioned events contained in the WCU Undergraduate Catalog. \n",
    "- In particular, please note that the “responsibility for meeting academic requirements rests with the student,” that this policy does not excuse students from completing required academic work, and that professors can require a “fair alternative” to attendance on those days that students must be absent from class in order to participate in a University-Sanctioned Event.\n"
   ]
  },
  {
   "cell_type": "markdown",
   "metadata": {
    "slideshow": {
     "slide_type": "slide"
    }
   },
   "source": [
    "### Late Work\n",
    "\n",
    "- Without prior approval from the instructors, late homework assignments will not be accepted but will be assigned a grade of zero. \n",
    "- Unless accompanied with a valid medical or University excuse, all late submissions will be penalized. \n",
    "- A make-up for the exams will be given only with a valid medical or University excuse. "
   ]
  },
  {
   "cell_type": "markdown",
   "metadata": {
    "slideshow": {
     "slide_type": "slide"
    }
   },
   "source": [
    "### Academic Integrity\n",
    "\n",
    "It is the responsibility of each student to adhere to the university’s standards for academic integrity. Violations of academic integrity include any act that violates the rights of another student in academic work, that involves misrepresentation of your own work, or that disrupts the instruction of the course. Other violations include (but are not limited to): cheating on assignments or examinations; plagiarizing, which means copying any part of another’s work and/or using ideas of another and presenting them as one’s own without giving proper credit to the source; selling, purchasing, or exchanging of term papers; falsifying of information; and using your own work from one class to fulfill the assignment for another class without significant modification. Proof of academic misconduct can result in the automatic failure and removal from this course. "
   ]
  },
  {
   "cell_type": "markdown",
   "metadata": {
    "slideshow": {
     "slide_type": "slide"
    }
   },
   "source": [
    "### Academic Integrity\n",
    "\n",
    "For questions regarding Academic Integrity, Sexual Harassment, or the Student Code of Conduct, students are encouraged to refer to the “Other” Menu of the Computer Science web page www.cs.wcupa.edu/, the Undergraduate Catalog, the Ram’s Eye View, and the University website at www.wcupa.edu."
   ]
  },
  {
   "cell_type": "markdown",
   "metadata": {
    "slideshow": {
     "slide_type": "slide"
    }
   },
   "source": [
    "### Disability Accommodations\n",
    "\n",
    "- To know more about West Chester University’s Services for  Students with Disabilities (OSSD), contact the OSSD which is located at 223 Lawrence  Center.  The OSSD hours of Operation are Monday – Friday 8:30 a.m. – 4:30 p.m.  Their phone number is 610-436-2564, their fax number is 610-436-2600, their email address is ossd@wcupa.edu, and their website is at www.wcupa.edu/ussss/ossd. \n",
    "- If you have a disability that requires accommodations under the Americans with Disabilities Act (ADA), please present your letter of accommodations to OSSD as soon as possible so that OSSD can support your success in an informed manner.  Accommodations cannot be granted retroactively."
   ]
  },
  {
   "cell_type": "markdown",
   "metadata": {
    "slideshow": {
     "slide_type": "slide"
    }
   },
   "source": [
    "### Title IX Statement\n",
    "\n",
    "- West Chester University and its faculty are committed to assuring a safe and productive educational environment for all students. In order to meet this commitment and to comply with Title IX of the Education Amendments of 1972 and guidance from the Office for Civil Rights, the University requires faculty members to report incidents of sexual violence shared by students to the University's Title IX Coordinator, Ms. Lynn Klingensmith. \n",
    "- The only exceptions to the faculty member's reporting obligation are when incidents of sexual violence are communicated by a student during a classroom discussion, in a writing assignment for a class, or as part of a University-approved research project. Faculty members are obligated to report sexual violence or any other abuse of a student who was, or is, a child (a person under 18 years of age) when the abuse allegedly occurred to the person designated in the University protection of minors policy.  Information regarding the reporting of sexual violence and the resources that are available to victims of sexual violence is set forth at the webpage for the Office of Social Equity at http://www.wcupa.edu/_admin/social.equity/.\n"
   ]
  },
  {
   "cell_type": "markdown",
   "metadata": {
    "slideshow": {
     "slide_type": "slide"
    }
   },
   "source": [
    "### Title IX Statement\n",
    "\n",
    "- Ms. Lynn Klingensmith is the West Chester University Title IX Coordinator and is also the Director of Social Equity. She can be reached at 610-436-2433 or by email at LKlingensmith@wcupa.edu and can connect you to resources both on and on campus, as well as provide information about the processes related to cases of sexual misconduct. \n",
    "\n",
    "- West Chester University community members also have a right to report acts of sexual misconduct to the Office of Civil Rights. They can be contacted at: The Wanamaker Building, 100 Penn Square East, Suite 515, Philadelphia, PA 19107-3323, (215) 656-8541, OCR.Philadelphia@ed.gov"
   ]
  },
  {
   "cell_type": "markdown",
   "metadata": {
    "slideshow": {
     "slide_type": "slide"
    }
   },
   "source": [
    "### Emergency Preparedness\n",
    "\n",
    "- All students are encouraged to sign up for the University’s free WCU ALERT service, which delivers official WCU emergency text messages directly to your cell phone.  \n",
    "- For more information, visit www.wcupa.edu/wcualert. To report an emergency, call the Department of Public Safety at 610-436-3311.\n"
   ]
  },
  {
   "cell_type": "markdown",
   "metadata": {
    "slideshow": {
     "slide_type": "slide"
    }
   },
   "source": [
    "### Electronic Mail Policy\n",
    "\n",
    "- It is expected that faculty, staff, and students activate and maintain regular access to University provided e-mail accounts. \n",
    "- Official university communications, including those from your instructor, will be sent through your university e-mail account. \n",
    "- You are responsible for accessing that mail to be sure to obtain official University communications. \n",
    "- Failure to access will not exempt individuals from the responsibilities associated with this course.\n"
   ]
  },
  {
   "cell_type": "markdown",
   "metadata": {
    "slideshow": {
     "slide_type": "slide"
    }
   },
   "source": [
    "### Instructor Email Policy\n",
    "\n",
    "For individual issue, it is best to contact me via email. I check my email frequently during normal working hours (9-5) on weekdays, and I will try to respond quickly (hopefully the same day). I do also check email on weekends and evenings, but not nearly as frequently (almost never on Sundays). As a result, you should expect longer delays during these times. \n",
    "\n",
    "If you send me an assignment-related email right before a deadline, I may not answer it in time to be helpful."
   ]
  },
  {
   "cell_type": "markdown",
   "metadata": {
    "slideshow": {
     "slide_type": "slide"
    }
   },
   "source": [
    "### Tentative Course Outline\n",
    "\n",
    "The Information Technology textbook will be covered:\n",
    "- Introduction to Information Technology\n",
    "- The Internet & The World Wide Web\n",
    "- Software Tools for Productivity & Creativity\n",
    "- Hardware: the CPU & Storage\n",
    "- Hardware: Input & Output\n",
    "- Communications, Networks, & Cyberthreats\n",
    "- Personal Technology\n",
    "- The Era of Big Data: Databases, Information Systems, & AI\n",
    "- The Challenges of the Digital Age"
   ]
  },
  {
   "cell_type": "markdown",
   "metadata": {
    "slideshow": {
     "slide_type": "slide"
    }
   },
   "source": [
    "### Tentative Course Outline\n",
    "\n",
    "- Approximately one and a half weeks will be used to cover each chapter.\n",
    "- Each of the nine quizzes will cover one the first nine chapters and other additional lecture materials in the chapters' slide deck.\n",
    "- There will be 12 Scratch demo projects for in-class practice and 5 Scratch credit projects worth 8% each\n",
    "- 10% of the course will cover written communication (the “uses & abuses of technology” term paper)"
   ]
  },
  {
   "cell_type": "markdown",
   "metadata": {
    "slideshow": {
     "slide_type": "slide"
    }
   },
   "source": [
    "### Appendix: Recommended software stack for Laptop to support viewing lecture slides\n",
    "\n",
    "- Python Anaconda (https://www.continuum.io/downloads)\n",
    "- Jupyter Slideshow extension (https://github.com/damianavila/RISE)"
   ]
  }
 ],
 "metadata": {
  "celltoolbar": "Slideshow",
  "kernelspec": {
   "display_name": "Python 3",
   "language": "python",
   "name": "python3"
  },
  "language_info": {
   "codemirror_mode": {
    "name": "ipython",
    "version": 3
   },
   "file_extension": ".py",
   "mimetype": "text/x-python",
   "name": "python",
   "nbconvert_exporter": "python",
   "pygments_lexer": "ipython3",
   "version": "3.6.5"
  }
 },
 "nbformat": 4,
 "nbformat_minor": 1
}
