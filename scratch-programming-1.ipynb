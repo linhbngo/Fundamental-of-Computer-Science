{
 "cells": [
  {
   "cell_type": "markdown",
   "metadata": {
    "slideshow": {
     "slide_type": "slide"
    }
   },
   "source": [
    "### <center> Introduction to programming using Scratch </center>\n",
    "\n",
    "<center> Linh B. Ngo"
   ]
  },
  {
   "cell_type": "markdown",
   "metadata": {
    "slideshow": {
     "slide_type": "slide"
    }
   },
   "source": [
    "#### What is programming?"
   ]
  },
  {
   "cell_type": "markdown",
   "metadata": {
    "slideshow": {
     "slide_type": "slide"
    }
   },
   "source": [
    "#### The Scratch project at MIT\n",
    "\n",
    "- Effort at MIT to promote programatical thinking at an early age.\n",
    "- Initiated, developed, and maintain by Lifelong Kindergarden Group, MIT Media Lab\n",
    "- Funded by: National Science Foundation, Scratch Foundation, Siegel Family Endowment, Google, LEGO Foundation, Intel, Cartoon Network, Lemann Foundation, MacArthur Foundation."
   ]
  },
  {
   "cell_type": "markdown",
   "metadata": {
    "slideshow": {
     "slide_type": "slide"
    }
   },
   "source": [
    "- Less focus on syntax, typing, compiling ...\n",
    "- More focus on thinking about how to direct the computer to do what you want"
   ]
  },
  {
   "cell_type": "markdown",
   "metadata": {
    "slideshow": {
     "slide_type": "slide"
    }
   },
   "source": [
    "#### Free registration and platform:\n",
    "\n",
    "https://scratch.mit.edu/"
   ]
  },
  {
   "cell_type": "markdown",
   "metadata": {
    "slideshow": {
     "slide_type": "slide"
    }
   },
   "source": [
    "<center> <img src=\"figure/scratch-1/s1.png\" width=\"600\"/>"
   ]
  },
  {
   "cell_type": "markdown",
   "metadata": {
    "slideshow": {
     "slide_type": "slide"
    }
   },
   "source": [
    "#### Menu"
   ]
  },
  {
   "cell_type": "markdown",
   "metadata": {
    "slideshow": {
     "slide_type": "slide"
    }
   },
   "source": [
    "<center> <img src=\"figure/scratch-1/s2.png\" width=\"400\"/>"
   ]
  },
  {
   "cell_type": "markdown",
   "metadata": {
    "slideshow": {
     "slide_type": "slide"
    }
   },
   "source": [
    "- New: New Scratch project\n",
    "- Save now: Save the current project *into the Scratch cloud*\n",
    "- Save as a copy: Create and save a duplicate copy of the current project *into the Scratch cloud*\n",
    "- Upload from your computer: Upload a template Scratch project from *your computer*\n",
    "- Download to your computer: Download a file containing all contents of your current Scartch project  to *your computer*\n",
    "- Revert: Throw away all changes since opening the current project"
   ]
  },
  {
   "cell_type": "markdown",
   "metadata": {
    "slideshow": {
     "slide_type": "slide"
    }
   },
   "source": [
    "#### Scratch Interface\n",
    "\n",
    "- Upper left window: Design space\n",
    "  - Green flag: Start executing the instructions (scripts) for the project\n",
    "  - Red circle: Stop the execution process\n",
    "  - *Untitled*: Name of the project, can be editted by click and type\n"
   ]
  },
  {
   "cell_type": "markdown",
   "metadata": {
    "slideshow": {
     "slide_type": "slide"
    }
   },
   "source": [
    "- Lower left window: Sprite space\n",
    "  - Containing all *sprites* (icons, images ...) that will be used in your project\n",
    "  - Sprites could be created by (in order of the *New sprite* tool bar):\n",
    "    - Select from existing online options\n",
    "    - Edit/draw a new sprite\n",
    "    - Upload from your computer\n",
    "    - Take a sprite screenshot from camera (your computer's webcam)"
   ]
  },
  {
   "cell_type": "markdown",
   "metadata": {
    "slideshow": {
     "slide_type": "slide"
    }
   },
   "source": [
    "- Right window:\n",
    "  - Space where all instructions are designed and created"
   ]
  },
  {
   "cell_type": "markdown",
   "metadata": {
    "slideshow": {
     "slide_type": "slide"
    }
   },
   "source": [
    "#### First hands-on project: Dog Chases Ball\n",
    "\n",
    "- Have the computer mouse control a soccer ball (the ball moves along with the mouse)\n",
    "- Have a sprite (dog?) chases after the soccer ball "
   ]
  }
 ],
 "metadata": {
  "celltoolbar": "Slideshow",
  "kernelspec": {
   "display_name": "Python 3",
   "language": "python",
   "name": "python3"
  },
  "language_info": {
   "codemirror_mode": {
    "name": "ipython",
    "version": 3
   },
   "file_extension": ".py",
   "mimetype": "text/x-python",
   "name": "python",
   "nbconvert_exporter": "python",
   "pygments_lexer": "ipython3",
   "version": "3.6.5"
  }
 },
 "nbformat": 4,
 "nbformat_minor": 2
}
