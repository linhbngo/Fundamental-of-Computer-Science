{
 "cells": [
  {
   "cell_type": "markdown",
   "metadata": {},
   "source": [
    "### Requirement:\n",
    "\n",
    "When the game starts, set the car at position x = -200, y = -100, and have the car laying horizontally and pointing to the right. \n",
    "\n",
    "Ask user to provide the duration during which they want the car to traverse along each side of a square track in the following manner:\n",
    "- First, proceed 400 units to the right, then turn left (upward).\n",
    "- Next, proceed 400 units upward, then turn left. \n",
    "- Next, proceed 400 units to the left, then turn left (downward).\n",
    "- Next, proceed 400 units downward, then turn left. "
   ]
  }
 ],
 "metadata": {
  "kernelspec": {
   "display_name": "Python 3",
   "language": "python",
   "name": "python3"
  },
  "language_info": {
   "codemirror_mode": {
    "name": "ipython",
    "version": 3
   },
   "file_extension": ".py",
   "mimetype": "text/x-python",
   "name": "python",
   "nbconvert_exporter": "python",
   "pygments_lexer": "ipython3",
   "version": "3.6.5"
  }
 },
 "nbformat": 4,
 "nbformat_minor": 2
}
