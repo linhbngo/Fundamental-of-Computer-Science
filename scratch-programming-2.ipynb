{
 "cells": [
  {
   "cell_type": "markdown",
   "metadata": {},
   "source": [
    "### Requirement:\n",
    "\n",
    "- Use a ball sprite\n",
    "- When the green flag is click, the ball will move in a **random** direction. When the ball touches the edge, it **bounces** back and continues moving. "
   ]
  },
  {
   "cell_type": "markdown",
   "metadata": {},
   "source": [
    "### Hints:\n",
    "- Random direction: Random turn before moving (**Motion** and **Operator** tabs)\n",
    "- When touch edge: **If** the ball touches edge"
   ]
  }
 ],
 "metadata": {
  "kernelspec": {
   "display_name": "Python 3",
   "language": "python",
   "name": "python3"
  },
  "language_info": {
   "codemirror_mode": {
    "name": "ipython",
    "version": 3
   },
   "file_extension": ".py",
   "mimetype": "text/x-python",
   "name": "python",
   "nbconvert_exporter": "python",
   "pygments_lexer": "ipython3",
   "version": "3.5.1"
  }
 },
 "nbformat": 4,
 "nbformat_minor": 2
}
