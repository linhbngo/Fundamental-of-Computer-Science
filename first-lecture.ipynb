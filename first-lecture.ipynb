{
 "cells": [
  {
   "cell_type": "markdown",
   "metadata": {
    "slideshow": {
     "slide_type": "slide"
    }
   },
   "source": [
    "## <center> The First Lecture </center>\n",
    "\n",
    "<center> Linh B Ngo </center>"
   ]
  },
  {
   "cell_type": "markdown",
   "metadata": {
    "slideshow": {
     "slide_type": "slide"
    }
   },
   "source": [
    "### The permeation of computer science across all disciplines\n",
    "\n",
    "\"The World: In-silica Fertilization; All Science Is Computer Science\". George Johnson, New York Times, 2001. "
   ]
  },
  {
   "cell_type": "markdown",
   "metadata": {
    "slideshow": {
     "slide_type": "slide"
    }
   },
   "source": [
    "\"Last month both physicists and biologists made announcements that challenged the tenets of their fields. Though different in every other way, both discoveries reliaed on the kind of intense computer power that would have been impossible to marshall just a few years ago. In fact, as research on so many fronts is becoming increasingly dependent on computation, all science, it seems, is becoming computer science\""
   ]
  },
  {
   "cell_type": "markdown",
   "metadata": {
    "slideshow": {
     "slide_type": "slide"
    }
   },
   "source": [
    "\"Researchers have long distinguished between experiments done in vivo (with a living creature) and in vitro (inside a glass test tube or dish). Now they commonly speak of doing them in silica -- as simulations run on the silicon chips of a computer.\""
   ]
  },
  {
   "cell_type": "markdown",
   "metadata": {
    "slideshow": {
     "slide_type": "slide"
    }
   },
   "source": [
    "'There are computational chemistry, computational neuroscience, computational genetics, computational immunology, and computational molecular biology. Even fields like sociology and anthropology are slowly succumbing to the change. At the Santa Fe Institute, computer models are used to study the factors that might have led to the rise and fall of complex cultures like the Ansazi of Chaco Canyon and Mesa Verde -- a kind of artificial archaeology.\""
   ]
  },
  {
   "cell_type": "markdown",
   "metadata": {
    "slideshow": {
     "slide_type": "slide"
    }
   },
   "source": [
    "### Why?\n",
    "\n",
    "\"Lessons from Becoming a Data-Driven Organization\". MIT Sloan Management Review. 2016"
   ]
  },
  {
   "cell_type": "markdown",
   "metadata": {
    "slideshow": {
     "slide_type": "slide"
    }
   },
   "source": [
    "\"Organizations across the business spectrum are awakening to the transformative power of data and analytics. They are also coming to grips with the daunting difficulty of the task that lies before them. It’s tough enough for many organizations to catalog and categorize the data at their disposal and devise the rules and processes for using it. It’s even tougher to translate that data into tangible value. But it’s not impossible, and many organizations, in both the private and public sectors, are learning how.\""
   ]
  },
  {
   "cell_type": "markdown",
   "metadata": {
    "slideshow": {
     "slide_type": "slide"
    }
   },
   "source": [
    "\"The case studies gathered and presented here tell, in a sense, a single story. It’s the story of a “management revolution,” brought about by the widespread adoption of big data and analytics in both the public and private sectors.1 In these dispatches from the front lines of that revolution, we see four strikingly dissimilar organizations — a health care system, a bank, a major industrial company, and a municipal government — in the process of becoming data-driven.\""
   ]
  },
  {
   "cell_type": "markdown",
   "metadata": {
    "slideshow": {
     "slide_type": "slide"
    }
   },
   "source": [
    "### In other words ...\n",
    "\n",
    "# <center> Data <center>"
   ]
  },
  {
   "cell_type": "markdown",
   "metadata": {
    "slideshow": {
     "slide_type": "slide"
    }
   },
   "source": [
    "#### <center> Computer Science/Information Technology: Raw data to information (the book) </center>"
   ]
  },
  {
   "cell_type": "markdown",
   "metadata": {
    "slideshow": {
     "slide_type": "slide"
    }
   },
   "source": [
    "### Why do you (non-CS majors) have to learn this?"
   ]
  },
  {
   "cell_type": "markdown",
   "metadata": {
    "slideshow": {
     "slide_type": "slide"
    }
   },
   "source": [
    "'A 2015 MIT Sloan Management Review survey of 2,719 managers in organizations around the world found that the chief barrier to creating business value from analytics was not data management or complex modeling skills. Rather, the main obstacle was translating analytics into business actions — or, as one survey respondent put it, developing middle management skills at interpretation.”"
   ]
  },
  {
   "cell_type": "markdown",
   "metadata": {
    "slideshow": {
     "slide_type": "slide"
    }
   },
   "source": [
    "Rough quotation from one leading computer scientist at a major CS conference:\n",
    "\n",
    "- It is easy to help training domain experts to have the relevant computing skills to solve domain-specific computation problems. It is extremely difficult to train computer scientists to do the same thing"
   ]
  },
  {
   "cell_type": "markdown",
   "metadata": {
    "slideshow": {
     "slide_type": "slide"
    }
   },
   "source": [
    "We (computer scientists) develop the theories and the frameworks, on which you (non-CS majors) will further leverage and build additional customized tools to solve your own problems. "
   ]
  },
  {
   "cell_type": "markdown",
   "metadata": {
    "slideshow": {
     "slide_type": "slide"
    }
   },
   "source": [
    "### Class majors\n",
    "\n",
    "Accounting, Business Management, Criminal Justice, Communication Studies, Economic, English, Finance, \n",
    "Health Science, International Business, Marketing, Music, Political Science, Psychology, Studio Arts, Urban and Environmental Planning"
   ]
  },
  {
   "cell_type": "markdown",
   "metadata": {
    "slideshow": {
     "slide_type": "slide"
    }
   },
   "source": [
    "- Accounting: [\"Preparing Tomorrow's Auditors For The Future Of Tech-Driven Accounting\" - Forbes 2017](https://www.forbes.com/sites/forbesfinancecouncil/2017/08/30/preparing-tomorrows-auditors-for-the-future-of-tech-driven-accounting/#5712c4661c27)\n",
    "\n",
    "*Schools are already evolving their programs to prepare students for the future of auditing. One example is Villanova University, where they will be launching a new Masters of Accounting with Data Analytics (MACDA) program this fall, requiring students to take a more big data and analytics-focused curriculum.*\n",
    "\n",
    "- Business Management/International Business: [\"Three keys to building a data-driven strategy\" - McKinsey 2013](https://www.mckinsey.com/business-functions/digital-mckinsey/our-insights/three-keys-to-building-a-data-driven-strategy)\n",
    "\n",
    "*Even with simple and usable models, most organizations will need to upgrade their analytical skills and literacy. To make analytics part of the fabric of daily operations, managers must view it as central to solving problems and identifying opportunities.*"
   ]
  },
  {
   "cell_type": "markdown",
   "metadata": {
    "slideshow": {
     "slide_type": "slide"
    }
   },
   "source": [
    "- Criminal Justice: [\"Data-Driven Government: A Case Study in the U.S. Criminal Justice\" - MIT Gov Lab 2017](http://www.mitgovlab.org/news/data-driven-government-a-case-study-in-us-criminal-justice/)\n",
    "\n",
    "*The big data challenge for government is unique from the large-scale data science at traditional tech companies (e.g., Google and Facebook). Data sits in its silo of origin, not in a central warehouse, so for results to service vulnerable or marginalized subpopulations in real-time, practitioners must create value by spanning geographies and disciplines. Correspondingly, a big data approach centered around accessibility, forward-thinking operationalization, and cross-sector collaboration, will be equipped to tackle social problems, like criminal justice.*\n",
    "\n",
    "- Communication/Marketing: [Five Steps to Build a Data Driven Marketing and Communications Model - Forbes 2017](https://www.forbes.com/sites/forbescommunicationscouncil/2017/05/11/five-steps-to-build-a-data-driven-marketing-and-communications-model/#597e0afd7dc0)\n",
    "\n",
    "*More and more businesses expect marketing and communications teams to make decisions and gather insights by analyzing the data they collect from marketing programs and initiatives, such as direct marketing, social media, public relations and events. The days of marketing \"artists\" are gone.*"
   ]
  },
  {
   "cell_type": "markdown",
   "metadata": {
    "slideshow": {
     "slide_type": "slide"
    }
   },
   "source": [
    "- Economic/Finance\n",
    "  - Biggest user of Clemson University's Supercomputer: Economic\n",
    "  - Analysis of SEC Log Data: Finance\n",
    "  \n",
    "  \n",
    "- English: [\"Careers: Computational Linguistics\"](http://www.cla.csulb.edu/departments/linguistics/careers-computational-linguistics/)\n",
    "\n",
    "*Computational linguists develop computer systems that deal with human language. They need a good understanding of both programming and linguistics. This is a challenging and technical field, but skilled computational linguists are in demand and highly paid. Computational linguists build systems that can perform tasks such as speech recognition (e.g., Siri), speech synthesis, machine translation (e.g., Google Translate), grammar checking, text mining and other “Big Data” applications, and many others.*"
   ]
  },
  {
   "cell_type": "markdown",
   "metadata": {
    "slideshow": {
     "slide_type": "slide"
    }
   },
   "source": [
    "- Health Science: [\"Making Better User of Health Care Data\" - Harvard Business Review 2018](https://hbr.org/2018/03/making-better-use-of-health-care-data)\n",
    "\n",
    "*At Sanford Health, a $4.5 billion rural integrated health care system, we deliver care to over 2.5 million people in 300 communities across 250,000 square miles. In the process, we collect and store vast quantities of patient data — everything from admission, diagnostic, treatment and discharge data to online interactions between patients and providers, as well as data on providers themselves. All this data clearly represents a rich resource with the potential to improve care, but until recently was underutilized. The question was, how best to leverage it.*\n",
    "\n",
    "- Political Science: [\"Data Science for Politics\" Standford POLISCI 217 154](https://politicalscience.stanford.edu/courses/2018-2019-polisci-150a)\n",
    "\n",
    "*Data science is quickly changing the way we understand and and engage in the political process. In this course we will develop fundamental techniques of data science and apply them to large political datasets on elections, campaign finance, lobbying, and more. The objective is to give students the skills to carry out cutting edge quantitative political studies in both academia and the private sector.*"
   ]
  },
  {
   "cell_type": "markdown",
   "metadata": {
    "slideshow": {
     "slide_type": "slide"
    }
   },
   "source": [
    "- Psychology: [\"Toward Psychoinformatics: Computer Science Meets Psychology\" - Computational and Mathematical Methods in Medicine 2016](https://www.ncbi.nlm.nih.gov/pmc/articles/PMC4923556/)\n",
    "\n",
    "*In the context of Psychoinformatics, we emphasize the cooperation between the disciplines of psychology and computer science in handling large data sets derived from heavily used devices, such as smartphones or online social network sites, in order to shed light on a large number of psychological traits, including personality and mood. New challenges await psychologists in light of the resulting “Big Data” sets, because classic psychological methods will only in part be able to analyze this data derived from ubiquitous mobile devices, as well as other everyday technologies.*\n",
    "\n",
    "- Urban and Environment Planning: [\"Planning the Data-Driven City\" - Data-Smart City Solutions 2017](https://datasmart.ash.harvard.edu/news/article/planning-the-data-driven-city-1003)\n",
    "\n",
    "*A city’s data is one of its most valuable assets. Urban data is the bedrock of the performance management programs that allow cities to ensure continuous improvement...Yet these digital resources are often taken for granted. Outside of the dedicated world of civic technologists, many of us imagine that city data is readily accessible and easy to use. But the process of collecting, cleaning, integrating, and analyzing data requires extensive capital investment, interagency collaboration, and long-range vision. In the face of complex organizational and technical challenges, cities are developing strategic plans to guide the development of more open, data-driven city government.*"
   ]
  },
  {
   "cell_type": "markdown",
   "metadata": {
    "slideshow": {
     "slide_type": "slide"
    }
   },
   "source": [
    "- Music: [\"A State of the Art on Computational Music Performance\" - Expert Systems with Applications 2011](https://www.sciencedirect.com/science/article/pii/S0957417410005373)\n",
    "\n",
    "*Musical expressivity can be defined as the deviation from a musical standard when a score is performed by a musician. This deviation is made in terms of intrinsic note attributes like pitch, timbre, timing and dynamics. The advances in computational power capabilities and digital sound synthesis have allowed real-time control of synthesized sounds. Expressive control becomes then an area of great interest in the sound and music computing field.*\n",
    "\n",
    "- Studio Arts: CGI, AR/VR, Animation ..."
   ]
  },
  {
   "cell_type": "markdown",
   "metadata": {
    "slideshow": {
     "slide_type": "slide"
    }
   },
   "source": [
    "### This course will be\n",
    "\n",
    "- Broad\n",
    "- High workload"
   ]
  },
  {
   "cell_type": "markdown",
   "metadata": {
    "slideshow": {
     "slide_type": "slide"
    }
   },
   "source": [
    "### My teaching philosophy\n",
    "\n",
    "- Constructive learning\n",
    "- Learning how to learn\n",
    "- Formative assessment (not summative):\n",
    "  + Many assessments (quizzes, in-class projects)"
   ]
  }
 ],
 "metadata": {
  "celltoolbar": "Slideshow",
  "kernelspec": {
   "display_name": "Python 3",
   "language": "python",
   "name": "python3"
  },
  "language_info": {
   "codemirror_mode": {
    "name": "ipython",
    "version": 3
   },
   "file_extension": ".py",
   "mimetype": "text/x-python",
   "name": "python",
   "nbconvert_exporter": "python",
   "pygments_lexer": "ipython3",
   "version": "3.6.5"
  }
 },
 "nbformat": 4,
 "nbformat_minor": 2
}
